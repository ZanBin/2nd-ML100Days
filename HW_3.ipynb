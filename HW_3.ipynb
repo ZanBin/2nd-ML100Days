{
 "cells": [
  {
   "cell_type": "markdown",
   "metadata": {},
   "source": [
    "1. Data structure of an individuals : vector $ \\in (0,1) ^ {15} $\n",
    "\n",
    "    vector form : (0,0,1,0,0,1,0,0,0,1,0,0,1,0,1) \n",
    "    \n",
    "    number form :4645\n",
    "   "
   ]
  },
  {
   "cell_type": "markdown",
   "metadata": {},
   "source": [
    "2.have i th item ：$T_i = True , Don't T_i = False $\n",
    "\n",
    "Total SP=\n",
    "\n",
    "\n",
    "\n",
    "\n",
    "$where (T_1orT_2orT_3 = True)and(T_4orT_5orT_6 = True)and(T_{13}orT_{14}orT_{15} = True) and  $ $    \\Sigma T_i*Weight_i<=529$ "
   ]
  },
  {
   "cell_type": "markdown",
   "metadata": {},
   "source": [
    "3. The maximum number of possible combinations of inventory bags＝$(2^3-1)^3*2^6=21952$"
   ]
  },
  {
   "cell_type": "code",
   "execution_count": 15,
   "metadata": {},
   "outputs": [],
   "source": [
    "import numpy as np\n",
    "import matplotlib as plt\n",
    "import random as rd"
   ]
  },
  {
   "cell_type": "code",
   "execution_count": 16,
   "metadata": {},
   "outputs": [],
   "source": [
    "Weight = [3.3, 3.4, 6.0, 26.1, 37.6, 62.5, 100.2, 141.1, 119.2, 122.4, 247.6, 352.0, 24.2, 32.1, 42.5]\n",
    "SP = [7, 8, 13, 29, 48, 99, 177, 213, 202, 210, 380, 485, 9, 12, 15]\n",
    "item=[0,0,0,0,0,0,0,0,0,0,0,0,0,0,0]\n"
   ]
  },
  {
   "cell_type": "code",
   "execution_count": 77,
   "metadata": {},
   "outputs": [],
   "source": [
    "def TotalSP(item) :\n",
    "    sp=0\n",
    "    for i in range (15):\n",
    "        sp = item[i]*SP[i] + sp\n",
    "    if (item[0]==1 or item[5]==1):\n",
    "        sp = 5 + sp\n",
    "    if (item[3]==1 and (item[8]==1 or item[9]==1)):\n",
    "        sp = 15 + sp\n",
    "    if  ((item[7]==1 or item[10]==1)and item[5]==1 and item[14]==1):\n",
    "        sp =25 + sp\n",
    "    if  (item[12]==1 and item[13]==1 and item[14]==1):\n",
    "        sp =70 + sp\n",
    "    return sp\n",
    "        "
   ]
  },
  {
   "cell_type": "code",
   "execution_count": 284,
   "metadata": {},
   "outputs": [],
   "source": [
    "def Selection(popu,performance):\n",
    "    NextGeneration=[]\n",
    "    fitness = 0\n",
    "    select_p=[]\n",
    "    Copy = []\n",
    "    for i in range (10):\n",
    "        fitness += performance[i]\n",
    "    for i in range (10):\n",
    "        select_p.append(performance[i]/fitness)\n",
    "        Copy.append(round(performance[i]/(fitness/10))) \n",
    "    for i in range(10):\n",
    "        for j in range(Copy[i]):\n",
    "            NextGeneration.append(popu[i])\n",
    "    return NextGeneration\n",
    "    "
   ]
  },
  {
   "cell_type": "code",
   "execution_count": null,
   "metadata": {},
   "outputs": [],
   "source": [
    "def TPX(popu):\n",
    "    order = [0,1,2,3,4,5,6,7,8,9]\n",
    "    rd.shuffle(order)\n",
    "    for i in range (5):\n",
    "        choice=random.shuffle"
   ]
  },
  {
   "cell_type": "code",
   "execution_count": 323,
   "metadata": {},
   "outputs": [],
   "source": [
    "def GA_1() :\n",
    "    item=[0,0,0,0,0,0,0,0,0,0,0,0,0,0,0]\n",
    "    popu=[]\n",
    "    gene=[]\n",
    "    outcome= []\n",
    "    performance = []\n",
    "    select_p=[]\n",
    "    Copy=[0,0,0,0,0,0,0,0,0,0,0,0,0,0,0]\n",
    "    t=0\n",
    "    \n",
    "    #initial population\n",
    "    while len(performance)<10 :\n",
    "        w = 0\n",
    "        for i in range(15):\n",
    "            item[i] = rd.randint(0,1)\n",
    "            \n",
    "        item[rd.choice([0,1,2])]=1\n",
    "        item[rd.choice([3,4,5])]=1\n",
    "        item[rd.choice([12,13,14])]=1\n",
    "             \n",
    "        for i in range(15):\n",
    "            w+= (Weight[i]*item[i])\n",
    "             \n",
    "        if (w <= 529) : \n",
    "            popu.append(item.copy())\n",
    "            outcome.append(TotalSP(item))\n",
    "            performance.append(TotalSP(item))\n",
    "    # end initial\n",
    "    Selection(popu,performance)\n",
    "    gene.append(Selection(popu,performance))\n",
    "    \n",
    "        \n"
   ]
  },
  {
   "cell_type": "code",
   "execution_count": 324,
   "metadata": {},
   "outputs": [
    {
     "name": "stdout",
     "output_type": "stream",
     "text": [
      "[576, 587, 770, 595, 746, 500, 544, 348, 361, 492]\n",
      "[[1, 1, 1, 0, 1, 1, 1, 0, 0, 1, 0, 0, 1, 0, 0], [1, 0, 0, 1, 1, 1, 1, 1, 0, 0, 0, 0, 1, 0, 0], [1, 0, 1, 0, 1, 1, 1, 0, 1, 1, 0, 0, 1, 0, 0], [1, 0, 1, 1, 0, 1, 0, 1, 1, 0, 0, 0, 0, 1, 0], [1, 1, 0, 1, 1, 0, 0, 1, 1, 1, 0, 0, 1, 0, 0], [1, 0, 0, 1, 1, 0, 1, 0, 0, 1, 0, 0, 1, 0, 0], [0, 1, 0, 1, 1, 0, 0, 1, 0, 1, 0, 0, 1, 1, 0], [1, 1, 1, 1, 1, 0, 0, 0, 1, 0, 0, 0, 1, 1, 0], [1, 1, 1, 0, 0, 1, 0, 0, 1, 0, 0, 0, 0, 1, 1], [1, 1, 0, 1, 0, 1, 0, 1, 0, 0, 0, 0, 1, 1, 1]]\n"
     ]
    }
   ],
   "source": [
    "GA_1()"
   ]
  },
  {
   "cell_type": "code",
   "execution_count": 342,
   "metadata": {},
   "outputs": [
    {
     "data": {
      "text/plain": [
       "[4, 7]"
      ]
     },
     "execution_count": 342,
     "metadata": {},
     "output_type": "execute_result"
    }
   ],
   "source": [
    "[rd.randint(1,8) for _ in range(2)]"
   ]
  },
  {
   "cell_type": "code",
   "execution_count": 374,
   "metadata": {},
   "outputs": [],
   "source": [
    "choice=rd.sample([1,2,3,4,5,6,7,8],2)"
   ]
  },
  {
   "cell_type": "code",
   "execution_count": null,
   "metadata": {},
   "outputs": [],
   "source": []
  }
 ],
 "metadata": {
  "kernelspec": {
   "display_name": "Python 3",
   "language": "python",
   "name": "python3"
  },
  "language_info": {
   "codemirror_mode": {
    "name": "ipython",
    "version": 3
   },
   "file_extension": ".py",
   "mimetype": "text/x-python",
   "name": "python",
   "nbconvert_exporter": "python",
   "pygments_lexer": "ipython3",
   "version": "3.8.5"
  }
 },
 "nbformat": 4,
 "nbformat_minor": 4
}
